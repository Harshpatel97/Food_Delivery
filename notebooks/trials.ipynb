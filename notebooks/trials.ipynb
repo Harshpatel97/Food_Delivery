{
 "cells": [
  {
   "cell_type": "code",
   "execution_count": 2,
   "metadata": {},
   "outputs": [],
   "source": [
    "import pandas as pd\n",
    "t = pd.read_csv(r\"E:\\Food_Delivery\\artifacts\\data_ingestion\\Final_train.csv\")"
   ]
  },
  {
   "cell_type": "code",
   "execution_count": 3,
   "metadata": {},
   "outputs": [
    {
     "data": {
      "text/plain": [
       "City\n",
       "Metropolitian     34093\n",
       "Urban             10136\n",
       "Semi-Urban          164\n",
       "Name: count, dtype: int64"
      ]
     },
     "execution_count": 3,
     "metadata": {},
     "output_type": "execute_result"
    }
   ],
   "source": [
    "t['City'].value_counts()"
   ]
  },
  {
   "cell_type": "code",
   "execution_count": 4,
   "metadata": {},
   "outputs": [
    {
     "data": {
      "text/plain": [
       "{'Delivery_person_Age': 33.0,\n",
       " 'Delivery_person_Ratings': 4.3,\n",
       " 'Weatherconditions': 'Windy',\n",
       " 'Road_traffic_density': 'Jam ',\n",
       " 'Vehicle_condition': 2.0,\n",
       " 'Type_of_order': 'Meal ',\n",
       " 'Type_of_vehicle': 'scooter ',\n",
       " 'multiple_deliveries': 1.0,\n",
       " 'Festival': 'No ',\n",
       " 'City': 'Metropolitian ',\n",
       " 'Time_taken(min)': 39.0,\n",
       " 'Distance': 20.140905255245308}"
      ]
     },
     "execution_count": 4,
     "metadata": {},
     "output_type": "execute_result"
    }
   ],
   "source": [
    "t.iloc[22].to_dict()"
   ]
  },
  {
   "cell_type": "code",
   "execution_count": 5,
   "metadata": {},
   "outputs": [],
   "source": [
    "cust_data = [{'Delivery_person_Age': 24,\n",
    "            'Delivery_person_Ratings': 5,\n",
    "            'Weatherconditions': 'Sunny',\n",
    "            'Road_traffic_density': 'Low ',\n",
    "            'Vehicle_condition': 1,\n",
    "            'Type_of_order': 'Buffet ',\n",
    "            'Type_of_vehicle': 'scooter', \n",
    "            'multiple_deliveries': 0,\n",
    "            'Festival': 'No ',\n",
    "            'City': 'Metropolitan',\n",
    "            'Distance': 6\n",
    "            }]\n"
   ]
  },
  {
   "cell_type": "code",
   "execution_count": 6,
   "metadata": {},
   "outputs": [
    {
     "data": {
      "text/html": [
       "<div>\n",
       "<style scoped>\n",
       "    .dataframe tbody tr th:only-of-type {\n",
       "        vertical-align: middle;\n",
       "    }\n",
       "\n",
       "    .dataframe tbody tr th {\n",
       "        vertical-align: top;\n",
       "    }\n",
       "\n",
       "    .dataframe thead th {\n",
       "        text-align: right;\n",
       "    }\n",
       "</style>\n",
       "<table border=\"1\" class=\"dataframe\">\n",
       "  <thead>\n",
       "    <tr style=\"text-align: right;\">\n",
       "      <th></th>\n",
       "      <th>Delivery_person_Age</th>\n",
       "      <th>Delivery_person_Ratings</th>\n",
       "      <th>Weatherconditions</th>\n",
       "      <th>Road_traffic_density</th>\n",
       "      <th>Vehicle_condition</th>\n",
       "      <th>Type_of_order</th>\n",
       "      <th>Type_of_vehicle</th>\n",
       "      <th>multiple_deliveries</th>\n",
       "      <th>Festival</th>\n",
       "      <th>City</th>\n",
       "      <th>Distance</th>\n",
       "    </tr>\n",
       "  </thead>\n",
       "  <tbody>\n",
       "    <tr>\n",
       "      <th>0</th>\n",
       "      <td>24</td>\n",
       "      <td>5</td>\n",
       "      <td>Sunny</td>\n",
       "      <td>Low</td>\n",
       "      <td>1</td>\n",
       "      <td>Buffet</td>\n",
       "      <td>scooter</td>\n",
       "      <td>0</td>\n",
       "      <td>No</td>\n",
       "      <td>Metropolitan</td>\n",
       "      <td>6</td>\n",
       "    </tr>\n",
       "  </tbody>\n",
       "</table>\n",
       "</div>"
      ],
      "text/plain": [
       "   Delivery_person_Age  Delivery_person_Ratings Weatherconditions  \\\n",
       "0                   24                        5             Sunny   \n",
       "\n",
       "  Road_traffic_density  Vehicle_condition Type_of_order Type_of_vehicle  \\\n",
       "0                 Low                   1       Buffet          scooter   \n",
       "\n",
       "   multiple_deliveries Festival          City  Distance  \n",
       "0                    0      No   Metropolitan         6  "
      ]
     },
     "execution_count": 6,
     "metadata": {},
     "output_type": "execute_result"
    }
   ],
   "source": [
    "d = pd.DataFrame.from_dict(cust_data)\n",
    "d"
   ]
  },
  {
   "cell_type": "code",
   "execution_count": null,
   "metadata": {},
   "outputs": [],
   "source": []
  },
  {
   "cell_type": "code",
   "execution_count": 7,
   "metadata": {},
   "outputs": [],
   "source": [
    "import pickle"
   ]
  },
  {
   "cell_type": "code",
   "execution_count": 8,
   "metadata": {},
   "outputs": [],
   "source": [
    "preprocessor = pickle.load(open(r\"E:\\Food_Delivery\\artifacts\\models\\Preprocessor.pkl\", 'rb'))\n",
    "model = pickle.load(open(r\"E:\\Food_Delivery\\artifacts\\models\\DeliveryModel.pkl\", 'rb'))"
   ]
  },
  {
   "cell_type": "code",
   "execution_count": 9,
   "metadata": {},
   "outputs": [],
   "source": [
    "cd = preprocessor.transform(d)"
   ]
  },
  {
   "cell_type": "code",
   "execution_count": 10,
   "metadata": {},
   "outputs": [
    {
     "data": {
      "text/plain": [
       "19.25"
      ]
     },
     "execution_count": 10,
     "metadata": {},
     "output_type": "execute_result"
    }
   ],
   "source": [
    "pre = model.predict(cd)\n",
    "pre[0]"
   ]
  },
  {
   "cell_type": "code",
   "execution_count": null,
   "metadata": {},
   "outputs": [],
   "source": []
  },
  {
   "cell_type": "code",
   "execution_count": null,
   "metadata": {},
   "outputs": [],
   "source": []
  }
 ],
 "metadata": {
  "kernelspec": {
   "display_name": "Python 3",
   "language": "python",
   "name": "python3"
  },
  "language_info": {
   "codemirror_mode": {
    "name": "ipython",
    "version": 3
   },
   "file_extension": ".py",
   "mimetype": "text/x-python",
   "name": "python",
   "nbconvert_exporter": "python",
   "pygments_lexer": "ipython3",
   "version": "3.9.0"
  },
  "orig_nbformat": 4
 },
 "nbformat": 4,
 "nbformat_minor": 2
}
