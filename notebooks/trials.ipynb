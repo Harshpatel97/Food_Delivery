{
 "cells": [
  {
   "cell_type": "code",
   "execution_count": 7,
   "metadata": {},
   "outputs": [],
   "source": [
    "import pandas as pd\n",
    "t = pd.read_csv(r\"E:\\Food_Delivery\\artifacts\\data_ingestion\\Final_train.csv\")"
   ]
  },
  {
   "cell_type": "code",
   "execution_count": 11,
   "metadata": {},
   "outputs": [
    {
     "data": {
      "text/plain": [
       "{'Delivery_person_Age': 33.0,\n",
       " 'Delivery_person_Ratings': 4.3,\n",
       " 'Weatherconditions': 'Windy',\n",
       " 'Road_traffic_density': 'Jam ',\n",
       " 'Vehicle_condition': 2.0,\n",
       " 'Type_of_order': 'Meal ',\n",
       " 'Type_of_vehicle': 'scooter ',\n",
       " 'multiple_deliveries': 1.0,\n",
       " 'Festival': 'No ',\n",
       " 'City': 'Metropolitian ',\n",
       " 'Time_taken(min)': 39.0,\n",
       " 'Distance': 20.140905255245308}"
      ]
     },
     "execution_count": 11,
     "metadata": {},
     "output_type": "execute_result"
    }
   ],
   "source": [
    "t.iloc[22].to_dict()"
   ]
  },
  {
   "cell_type": "code",
   "execution_count": null,
   "metadata": {},
   "outputs": [],
   "source": []
  }
 ],
 "metadata": {
  "kernelspec": {
   "display_name": "Python 3",
   "language": "python",
   "name": "python3"
  },
  "language_info": {
   "codemirror_mode": {
    "name": "ipython",
    "version": 3
   },
   "file_extension": ".py",
   "mimetype": "text/x-python",
   "name": "python",
   "nbconvert_exporter": "python",
   "pygments_lexer": "ipython3",
   "version": "3.9.0"
  },
  "orig_nbformat": 4
 },
 "nbformat": 4,
 "nbformat_minor": 2
}
