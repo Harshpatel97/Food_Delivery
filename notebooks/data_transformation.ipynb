{
 "cells": [
  {
   "cell_type": "code",
   "execution_count": 1,
   "metadata": {},
   "outputs": [
    {
     "data": {
      "text/plain": [
       "'e:\\\\Food_Delivery\\\\notebooks'"
      ]
     },
     "execution_count": 1,
     "metadata": {},
     "output_type": "execute_result"
    }
   ],
   "source": [
    "import os\n",
    "%pwd"
   ]
  },
  {
   "cell_type": "code",
   "execution_count": 2,
   "metadata": {},
   "outputs": [],
   "source": [
    "os.chdir('../')"
   ]
  },
  {
   "cell_type": "code",
   "execution_count": 3,
   "metadata": {},
   "outputs": [],
   "source": [
    "from dataclasses import dataclass\n",
    "from pathlib import Path\n",
    "\n",
    "@dataclass(frozen=True)\n",
    "class DataTransformationConfig:\n",
    "    root_dir: Path\n",
    "    train_path: Path\n",
    "    test_path: Path\n",
    "    preprocessor_model_path: Path\n",
    "    "
   ]
  },
  {
   "cell_type": "code",
   "execution_count": 4,
   "metadata": {},
   "outputs": [],
   "source": [
    "from src.constants import *\n",
    "from src.utils import read_yaml, create_directories"
   ]
  },
  {
   "cell_type": "code",
   "execution_count": 5,
   "metadata": {},
   "outputs": [],
   "source": [
    "class ConfigurationManager:\n",
    "    def __init__(\n",
    "        self,\n",
    "        config_filepath = CONFIG_FILE_PATH,\n",
    "        params_filepath = PARAMS_FILE_PATH):\n",
    "\n",
    "        self.config = read_yaml(config_filepath)\n",
    "        self.params = read_yaml(params_filepath)\n",
    "\n",
    "        create_directories([self.config.artifacts_root])\n",
    "\n",
    "\n",
    "    \n",
    "    def get_data_transformation_config(self) -> DataTransformationConfig:\n",
    "        config = self.config.data_transformation\n",
    "\n",
    "        create_directories([config.root_dir])\n",
    "\n",
    "        data_transformation_config = DataTransformationConfig(\n",
    "            root_dir=config.root_dir,\n",
    "            train_path=config.train_path,\n",
    "            test_path=config.test_path,\n",
    "            preprocessor_model_path=config.preprocessor_model_path\n",
    "        )\n",
    "\n",
    "        return data_transformation_config"
   ]
  },
  {
   "cell_type": "code",
   "execution_count": 6,
   "metadata": {},
   "outputs": [],
   "source": [
    "import os\n",
    "from src.logging import logger\n",
    "import pandas as pd\n",
    "import numpy as np\n",
    "import geopy.distance\n",
    "import pickle\n",
    "\n",
    "from sklearn.compose import ColumnTransformer\n",
    "from sklearn.impute import SimpleImputer\n",
    "from sklearn.preprocessing import StandardScaler,OneHotEncoder\n",
    "from sklearn.pipeline import Pipeline\n",
    "\n"
   ]
  },
  {
   "cell_type": "code",
   "execution_count": 7,
   "metadata": {},
   "outputs": [],
   "source": [
    "\n",
    "class DataTransformation:\n",
    "    def __init__(self, config: DataTransformationConfig):\n",
    "        self.config = config\n",
    "        \n",
    "    def feature_eng(self):\n",
    "        train = pd.read_csv(self.config.train_path)\n",
    "        test = pd.read_csv(self.config.test_path)\n",
    "        \n",
    "        \n",
    "        train.replace('NaN', float(np.nan), regex=True, inplace=True)\n",
    "        test.replace('NaN', float(np.nan), regex=True, inplace=True)\n",
    "        \n",
    "        train['Weatherconditions']=train['Weatherconditions'].str.split(\" \", expand=True)[1]\n",
    "        train['Time_taken(min)']=train['Time_taken(min)'].str.split(\" \", expand=True)[1]\n",
    "        \n",
    "        test['Weatherconditions']=test['Weatherconditions'].str.split(\" \", expand=True)[1]\n",
    "        \n",
    "        num_cols = ['Delivery_person_Age','Delivery_person_Ratings','Restaurant_latitude','Restaurant_longitude',\n",
    "            'Delivery_location_latitude','Delivery_location_longitude','Vehicle_condition','multiple_deliveries',\n",
    "            'Time_taken(min)']\n",
    "        for col in num_cols:\n",
    "            train[col]=train[col].astype('float64')\n",
    "            \n",
    "        for col in num_cols[:-1]:\n",
    "            test[col]=test[col].astype('float64')\n",
    "        \n",
    "        \n",
    "        return train, test\n",
    "            \n",
    "    def distance(self, train, test):\n",
    "    \n",
    "        train['Restaurant_latitude'] = train['Restaurant_latitude'].abs()\n",
    "        train['Restaurant_longitude'] = train['Restaurant_longitude'].abs()\n",
    "        \n",
    "        restaurant_coordinates = train[['Restaurant_latitude', 'Restaurant_longitude']].to_numpy()\n",
    "        delivery_location_coordinates = train[['Delivery_location_latitude', 'Delivery_location_longitude']].to_numpy()\n",
    "        \n",
    "        Distance = []\n",
    "        for i in range(len(train)):\n",
    "            dist = geopy.distance.geodesic(restaurant_coordinates[i], delivery_location_coordinates[i]).km\n",
    "            Distance.append(dist)\n",
    "\n",
    "        train['Distance'] = Distance\n",
    "        \n",
    "        test['Restaurant_latitude'] = test['Restaurant_latitude'].abs()\n",
    "        test['Restaurant_longitude'] = test['Restaurant_longitude'].abs()\n",
    "        \n",
    "        restaurant_coordinates = test[['Restaurant_latitude', 'Restaurant_longitude']].to_numpy()\n",
    "        delivery_location_coordinates = test[['Delivery_location_latitude', 'Delivery_location_longitude']].to_numpy()\n",
    "        \n",
    "        Distance = []\n",
    "        for i in range(len(test)):\n",
    "            dist = geopy.distance.geodesic(restaurant_coordinates[i], delivery_location_coordinates[i]).km\n",
    "            Distance.append(dist)\n",
    "\n",
    "        test['Distance'] = Distance\n",
    "        \n",
    "        drop_cols = ['ID', 'Delivery_person_ID', 'Time_Orderd','Time_Order_picked', 'Restaurant_latitude',\n",
    "            'Restaurant_longitude','Delivery_location_latitude', 'Delivery_location_longitude',\n",
    "            'Order_Date']\n",
    "        \n",
    "        train.drop(drop_cols, axis=1, inplace=True)\n",
    "        test.drop(drop_cols, axis=1, inplace=True)\n",
    "        \n",
    "        train.to_csv(r\"E:\\Food_Delivery\\artifacts\\data_ingestion\\Final_train.csv\", index=False)\n",
    "        test.to_csv(r\"E:\\Food_Delivery\\artifacts\\data_ingestion\\Final_test.csv\", index=False)\n",
    "        return train, test\n",
    "\n",
    "    def data_transformer(self):\n",
    "        categorical_columns = ['Type_of_order','Type_of_vehicle','Festival','City',\n",
    "                               'Road_traffic_density', 'Weatherconditions']\n",
    "        \n",
    "        numerical_columns=['Delivery_person_Age','Delivery_person_Ratings','Vehicle_condition',\n",
    "                              'multiple_deliveries','Distance']\n",
    "\n",
    "        # Numerical pipeline\n",
    "        numerical_pipeline = Pipeline(steps = [\n",
    "            ('impute', SimpleImputer(strategy = 'constant', fill_value=0)),\n",
    "            ('scaler', StandardScaler(with_mean=False))\n",
    "        ])\n",
    "\n",
    "        # Categorical Pipeline\n",
    "        categorical_pipeline = Pipeline(steps = [\n",
    "            ('impute', SimpleImputer(strategy = 'most_frequent')),\n",
    "            ('onehot', OneHotEncoder(handle_unknown = 'ignore')),\n",
    "            ('scaler', StandardScaler(with_mean=False))\n",
    "        ])\n",
    "\n",
    "        preprocessor = ColumnTransformer([\n",
    "            ('numerical_pipeline', numerical_pipeline,numerical_columns),\n",
    "            ('categorical_pipeline', categorical_pipeline,categorical_columns)\n",
    "        ])\n",
    "        \n",
    "        return preprocessor\n",
    "        \n",
    "    \n",
    "    def initiate_data_transformation(self):\n",
    "        train, test = self.feature_eng()\n",
    "        self.distance(train, test)\n",
    "        preprocessor = self.data_transformer()\n",
    "        \n",
    "        \n",
    "    \n",
    "        X_train = train.drop('Time_taken(min)', axis = 1)\n",
    "        X_test = test\n",
    "        y_train = train['Time_taken(min)']\n",
    "        \n",
    "        \n",
    "        X_train = preprocessor.fit_transform(X_train)\n",
    "        X_test = preprocessor.transform(X_test)\n",
    "        \n",
    "        preprocessor_path = self.config.preprocessor_model_path\n",
    "        \n",
    "        logger.info(f\"Saving preprocessor pickle file at {preprocessor_path}\")\n",
    "        \n",
    "        with open(preprocessor_path, 'wb') as file:\n",
    "            pickle.dump(preprocessor, file)\n",
    "    \n",
    "        \n",
    "            \n",
    "        "
   ]
  },
  {
   "cell_type": "code",
   "execution_count": 8,
   "metadata": {},
   "outputs": [
    {
     "name": "stdout",
     "output_type": "stream",
     "text": [
      "[2023-08-22 20:45:21,521: INFO: __init__: yaml_file: config\\config.yaml loaded succesfully...]\n",
      "[2023-08-22 20:45:21,524: INFO: __init__: yaml_file: params.yaml loaded succesfully...]\n",
      "[2023-08-22 20:45:21,526: INFO: __init__: Directory created at: artifacts]\n",
      "[2023-08-22 20:45:21,528: INFO: __init__: Directory created at: artifacts/models]\n",
      "[2023-08-22 20:45:33,707: INFO: 2582078224: Saving preprocessor pickle file at artifacts/models/Preprocessor.pkl]\n"
     ]
    }
   ],
   "source": [
    "try:\n",
    "    config = ConfigurationManager()\n",
    "    data_transformation_config = config.get_data_transformation_config()\n",
    "    data_transformation = DataTransformation(config=data_transformation_config)\n",
    "    data_transformation.initiate_data_transformation()\n",
    "except Exception as e:\n",
    "    raise e"
   ]
  },
  {
   "cell_type": "code",
   "execution_count": null,
   "metadata": {},
   "outputs": [],
   "source": []
  }
 ],
 "metadata": {
  "kernelspec": {
   "display_name": "Python 3",
   "language": "python",
   "name": "python3"
  },
  "language_info": {
   "codemirror_mode": {
    "name": "ipython",
    "version": 3
   },
   "file_extension": ".py",
   "mimetype": "text/x-python",
   "name": "python",
   "nbconvert_exporter": "python",
   "pygments_lexer": "ipython3",
   "version": "3.9.0"
  },
  "orig_nbformat": 4
 },
 "nbformat": 4,
 "nbformat_minor": 2
}
