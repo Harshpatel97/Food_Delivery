{
 "cells": [
  {
   "cell_type": "code",
   "execution_count": 1,
   "metadata": {},
   "outputs": [
    {
     "data": {
      "text/plain": [
       "'e:\\\\Food_Delivery\\\\notebooks'"
      ]
     },
     "execution_count": 1,
     "metadata": {},
     "output_type": "execute_result"
    }
   ],
   "source": [
    "import os\n",
    "%pwd"
   ]
  },
  {
   "cell_type": "code",
   "execution_count": 2,
   "metadata": {},
   "outputs": [],
   "source": [
    "os.chdir('../')"
   ]
  },
  {
   "cell_type": "code",
   "execution_count": 3,
   "metadata": {},
   "outputs": [],
   "source": [
    "from dataclasses import dataclass\n",
    "from pathlib import Path\n",
    "\n",
    "@dataclass(frozen=True)\n",
    "class DataTransformationConfig:\n",
    "    root_dir: Path\n",
    "    data_path: Path\n",
    "    "
   ]
  },
  {
   "cell_type": "code",
   "execution_count": 4,
   "metadata": {},
   "outputs": [],
   "source": [
    "from src.constants import *\n",
    "from src.utils import read_yaml, create_directories"
   ]
  },
  {
   "cell_type": "code",
   "execution_count": 5,
   "metadata": {},
   "outputs": [],
   "source": [
    "class ConfigurationManager:\n",
    "    def __init__(\n",
    "        self,\n",
    "        config_filepath = CONFIG_FILE_PATH,\n",
    "        params_filepath = PARAMS_FILE_PATH):\n",
    "\n",
    "        self.config = read_yaml(config_filepath)\n",
    "        self.params = read_yaml(params_filepath)\n",
    "\n",
    "        create_directories([self.config.artifacts_root])\n",
    "\n",
    "\n",
    "    \n",
    "    def get_data_transformation_config(self) -> DataTransformationConfig:\n",
    "        config = self.config.data_transformation\n",
    "\n",
    "        create_directories([config.root_dir])\n",
    "\n",
    "        data_transformation_config = DataTransformationConfig(\n",
    "            root_dir=config.root_dir,\n",
    "            data_path=config.data_path\n",
    "        )\n",
    "\n",
    "        return data_transformation_config"
   ]
  },
  {
   "cell_type": "code",
   "execution_count": 6,
   "metadata": {},
   "outputs": [],
   "source": [
    "import os\n",
    "from src.logging import logger\n",
    "import geopy.distance\n",
    "import numpy as np\n",
    "import pandas as pd"
   ]
  },
  {
   "cell_type": "code",
   "execution_count": 17,
   "metadata": {},
   "outputs": [],
   "source": [
    "class DataTransformation:\n",
    "    def __init__(self, config: DataTransformationConfig):\n",
    "        self.config = config\n",
    "        \n",
    "    def feature_eng(self, data):\n",
    "        data.replace('NaN', float(np.nan), regex=True, inplace=True)\n",
    "        data['Weatherconditions']=data['Weatherconditions'].str.split(\" \", expand=True)[1]\n",
    "        data['Time_taken(min)']=data['Time_taken(min)'].str.split(\" \", expand=True)[1]\n",
    "        \n",
    "        \n",
    "        num_cols = ['Delivery_person_Age','Delivery_person_Ratings','Restaurant_latitude','Restaurant_longitude',\n",
    "            'Delivery_location_latitude','Delivery_location_longitude','Vehicle_condition','multiple_deliveries',\n",
    "            'Time_taken(min)']\n",
    "        for col in num_cols:\n",
    "            data[col]=data[col].astype('float64')\n",
    "        \n",
    "        return data\n",
    "            \n",
    "    def distance(self, data):\n",
    "    \n",
    "        data['Restaurant_latitude'] = data['Restaurant_latitude'].abs()\n",
    "        data['Restaurant_longitude'] = data['Restaurant_longitude'].abs()\n",
    "        \n",
    "        restaurant_coordinates = data[['Restaurant_latitude', 'Restaurant_longitude']].to_numpy()\n",
    "        delivery_location_coordinates = data[['Delivery_location_latitude', 'Delivery_location_longitude']].to_numpy()\n",
    "        \n",
    "        Distance = []\n",
    "        for i in range(len(data)):\n",
    "            dist = geopy.distance.geodesic(restaurant_coordinates[i], delivery_location_coordinates[i]).km\n",
    "            Distance.append(dist)\n",
    "\n",
    "        data['Distance(kms)'] = Distance\n",
    "        \n",
    "        return data\n",
    "\n",
    "    def fill_na(self, data):\n",
    "        \n",
    "        data['Delivery_person_Age'].fillna(29, inplace=True) \n",
    "        data['Delivery_person_Ratings'].fillna(4.5, inplace=True)\n",
    "        data['Weatherconditions'].fillna('Sunny', inplace=True)\n",
    "        data['Road_traffic_density'].fillna('Low', inplace=True)\n",
    "        data['multiple_deliveries'].fillna(1.0, inplace=True)\n",
    "        data['Festival'].fillna('No', inplace=True)\n",
    "        data['City'].fillna('Metropolitian', inplace=True)\n",
    "        \n",
    "        data.drop(['ID', 'Delivery_person_ID', 'Time_Orderd','Time_Order_picked', 'Restaurant_latitude',\n",
    "            'Restaurant_longitude','Delivery_location_latitude', 'Delivery_location_longitude',\n",
    "            'Order_Date'],axis=1,inplace=True)\n",
    "        \n",
    "        return data\n",
    "\n",
    "    def cat_values(self, data):\n",
    "        \n",
    "        Road_encodes = {'Low ': 0, 'Medium ': 1, 'High ': 2, 'Jam ': 3, 'Low':0}\n",
    "        Weather_encodes = {'Sunny': 0,'Cloudy': 1, 'Windy': 2, 'Fog': 3, 'Stormy': 4, 'Sandstorms': 5}\n",
    "    \n",
    "        data['Road_traffic_density'] = data['Road_traffic_density'].replace(Road_encodes)\n",
    "        data['Weatherconditions'] = data['Weatherconditions'].replace(Weather_encodes)\n",
    "        \n",
    "        categorical_columns = [feature for feature in data.columns if data[feature].dtypes == \"O\"]\n",
    "        data = pd.get_dummies(data, columns=categorical_columns, drop_first=True, dtype=int)\n",
    "        \n",
    "        return data\n",
    "    \n",
    "    \n",
    "    def convert(self):\n",
    "        df = pd.read_csv(self.config.data_path)\n",
    "        feat = self.feature_eng(df)\n",
    "        dist = self.distance(feat)\n",
    "        nul = self.fill_na(dist)\n",
    "        cat = self.cat_values(nul)\n",
    "        cat.to_csv(r\"E:\\Food_Delivery\\artifacts\\data_ingestion\\Final Dataset.csv\")\n",
    "        \n",
    "            \n",
    "        "
   ]
  },
  {
   "cell_type": "code",
   "execution_count": 18,
   "metadata": {},
   "outputs": [
    {
     "name": "stdout",
     "output_type": "stream",
     "text": [
      "[2023-08-18 17:54:44,390: INFO: __init__: yaml_file: config\\config.yaml loaded succesfully...]\n",
      "[2023-08-18 17:54:44,405: INFO: __init__: yaml_file: params.yaml loaded succesfully...]\n",
      "[2023-08-18 17:54:44,405: INFO: __init__: Directory created at: artifacts]\n",
      "[2023-08-18 17:54:44,405: INFO: __init__: Directory created at: artifacts/data_ingestion]\n"
     ]
    }
   ],
   "source": [
    "try:\n",
    "    config = ConfigurationManager()\n",
    "    data_transformation_config = config.get_data_transformation_config()\n",
    "    data_transformation = DataTransformation(config=data_transformation_config)\n",
    "    data_transformation.convert()\n",
    "except Exception as e:\n",
    "    raise e"
   ]
  }
 ],
 "metadata": {
  "kernelspec": {
   "display_name": "Python 3",
   "language": "python",
   "name": "python3"
  },
  "language_info": {
   "codemirror_mode": {
    "name": "ipython",
    "version": 3
   },
   "file_extension": ".py",
   "mimetype": "text/x-python",
   "name": "python",
   "nbconvert_exporter": "python",
   "pygments_lexer": "ipython3",
   "version": "3.9.0"
  },
  "orig_nbformat": 4
 },
 "nbformat": 4,
 "nbformat_minor": 2
}
