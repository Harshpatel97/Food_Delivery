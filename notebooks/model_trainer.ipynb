{
 "cells": [
  {
   "cell_type": "code",
   "execution_count": 1,
   "metadata": {},
   "outputs": [
    {
     "data": {
      "text/plain": [
       "'e:\\\\Food_Delivery\\\\notebooks'"
      ]
     },
     "execution_count": 1,
     "metadata": {},
     "output_type": "execute_result"
    }
   ],
   "source": [
    "import os\n",
    "%pwd"
   ]
  },
  {
   "cell_type": "code",
   "execution_count": 2,
   "metadata": {},
   "outputs": [],
   "source": [
    "os.chdir('../')"
   ]
  },
  {
   "cell_type": "code",
   "execution_count": 3,
   "metadata": {},
   "outputs": [],
   "source": [
    "from dataclasses import dataclass\n",
    "from pathlib import Path\n",
    "\n",
    "@dataclass(frozen=True)\n",
    "class ModelTrainerConfig:\n",
    "    root_dir: Path\n",
    "    train_path: Path\n",
    "    test_path: Path\n",
    "    preprocessor_model_path: Path\n",
    "    model_path:Path"
   ]
  },
  {
   "cell_type": "code",
   "execution_count": 4,
   "metadata": {},
   "outputs": [],
   "source": [
    "from src.constants import *\n",
    "from src.utils import read_yaml, create_directories"
   ]
  },
  {
   "cell_type": "code",
   "execution_count": 5,
   "metadata": {},
   "outputs": [],
   "source": [
    "class ConfigurationManager:\n",
    "    def __init__(\n",
    "        self,\n",
    "        config_filepath = CONFIG_FILE_PATH,\n",
    "        params_filepath = PARAMS_FILE_PATH):\n",
    "\n",
    "        self.config = read_yaml(config_filepath)\n",
    "        self.params = read_yaml(params_filepath)\n",
    "\n",
    "        create_directories([self.config.artifacts_root])\n",
    "        \n",
    "    def get_model_trainer_config(self) -> ModelTrainerConfig:\n",
    "        config = self.config.model_trainer\n",
    "\n",
    "        create_directories([config.root_dir])\n",
    "\n",
    "        model_trainer_config = ModelTrainerConfig(\n",
    "            root_dir=config.root_dir,\n",
    "            train_path=config.train_path,\n",
    "            test_path=config.test_path,\n",
    "            preprocessor_model_path=config.preprocessor_model_path,\n",
    "            model_path=config.model_path\n",
    "        )\n",
    "\n",
    "        return model_trainer_config"
   ]
  },
  {
   "cell_type": "code",
   "execution_count": 6,
   "metadata": {},
   "outputs": [],
   "source": [
    "import os\n",
    "from src.logging import logger\n",
    "import numpy as np\n",
    "import pandas as pd\n",
    "from sklearn.ensemble import RandomForestRegressor\n",
    "import pickle\n",
    "\n",
    "from sklearn.metrics import r2_score,mean_absolute_error,mean_squared_error\n"
   ]
  },
  {
   "cell_type": "code",
   "execution_count": 7,
   "metadata": {},
   "outputs": [],
   "source": [
    "class ModelTrainer:\n",
    "    def __init__(self, config: ModelTrainerConfig):\n",
    "        self.config = config\n",
    "        \n",
    "    def initiate_model_training(self):\n",
    "        train = pd.read_csv(self.config.train_path)\n",
    "        test = pd.read_csv(self.config.test_path)\n",
    "        \n",
    "        X_train = train.drop('Time_taken(min)', axis = 1)\n",
    "        X_test = test\n",
    "        y_train = train['Time_taken(min)']\n",
    "        \n",
    "        preprocessor_path = self.config.preprocessor_model_path\n",
    "        \n",
    "        with open(preprocessor_path, 'rb') as file:\n",
    "            preprocessor = pickle.load(file)\n",
    "            \n",
    "        \n",
    "        X_train = preprocessor.fit_transform(X_train)\n",
    "        X_test = preprocessor.transform(X_test)\n",
    "        \n",
    "        \n",
    "        rf = RandomForestRegressor()\n",
    "        \n",
    "        rf.fit(X_train, y_train)\n",
    "        \n",
    "        rf_model = self.config.model_path\n",
    "        \n",
    "        logger.info(f\"Saving model.pkl file at {rf_model}\")\n",
    "        \n",
    "        with open(rf_model, 'wb') as file:\n",
    "            pickle.dump(rf, file)\n",
    "        "
   ]
  },
  {
   "cell_type": "code",
   "execution_count": 8,
   "metadata": {},
   "outputs": [
    {
     "name": "stdout",
     "output_type": "stream",
     "text": [
      "[2023-08-22 20:57:57,976: INFO: __init__: yaml_file: config\\config.yaml loaded succesfully...]\n",
      "[2023-08-22 20:57:57,979: INFO: __init__: yaml_file: params.yaml loaded succesfully...]\n",
      "[2023-08-22 20:57:57,980: INFO: __init__: Directory created at: artifacts]\n",
      "[2023-08-22 20:57:57,981: INFO: __init__: Directory created at: artifacts/models]\n"
     ]
    }
   ],
   "source": [
    "try:\n",
    "    config = ConfigurationManager()\n",
    "    model_trainer_config = config.get_model_trainer_config()\n",
    "    model_trainer = ModelTrainer(config = model_trainer_config)\n",
    "    model_trainer.initiate_model_training()\n",
    "except Exception as e:\n",
    "    raise e"
   ]
  },
  {
   "cell_type": "code",
   "execution_count": null,
   "metadata": {},
   "outputs": [],
   "source": []
  }
 ],
 "metadata": {
  "kernelspec": {
   "display_name": "Python 3 (ipykernel)",
   "language": "python",
   "name": "python3"
  },
  "language_info": {
   "codemirror_mode": {
    "name": "ipython",
    "version": 3
   },
   "file_extension": ".py",
   "mimetype": "text/x-python",
   "name": "python",
   "nbconvert_exporter": "python",
   "pygments_lexer": "ipython3",
   "version": "3.9.0"
  }
 },
 "nbformat": 4,
 "nbformat_minor": 2
}
